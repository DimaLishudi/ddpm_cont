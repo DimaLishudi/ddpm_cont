{
  "cells": [
    {
      "cell_type": "code",
      "execution_count": null,
      "id": "199b716a",
      "metadata": {
        "id": "199b716a"
      },
      "outputs": [],
      "source": [
        "import torch\n",
        "import numpy as np\n",
        "\n",
        "from skimage.io import imread, imsave\n",
        "from tqdm.auto import trange, tqdm\n",
        "from torchvision.datasets import MNIST\n",
        "from pytorch_fid import fid_score\n",
        "import torchvision.transforms as T\n",
        "\n",
        "from data_generator import DataGenerator\n",
        "from default_mnist_config import create_default_mnist_config\n",
        "from diffusion import DiffusionRunner\n",
        "from models.classifier import ResNet, ResidualBlock, ConditionalResNet\n",
        "\n",
        "from matplotlib import pyplot as plt\n",
        "\n",
        "import os\n",
        "import shutil\n",
        "\n",
        "# os.environ['CUDA_VISIBLE_DEVICES'] = '1'\n",
        "device = torch.device('cuda')"
      ]
    },
    {
      "cell_type": "markdown",
      "id": "f8a96e0e",
      "metadata": {
        "id": "f8a96e0e"
      },
      "source": [
        "#### Определим папку с настоящими картинками"
      ]
    },
    {
      "cell_type": "code",
      "execution_count": null,
      "id": "5def5c68",
      "metadata": {
        "id": "5def5c68"
      },
      "outputs": [],
      "source": [
        "def create_dir(path: str):\n",
        "    if not os.path.exists(path):\n",
        "        os.makedirs(path)"
      ]
    },
    {
      "cell_type": "code",
      "execution_count": null,
      "id": "72e67beb",
      "metadata": {
        "colab": {
          "base_uri": "https://localhost:8080/",
          "height": 396,
          "referenced_widgets": [
            "8ab080906bb44bb7af4f425dcf44e433",
            "6487cf40dc224fadbf24792fa9032b9c",
            "cf7ae06895894ee998cd6f084296759c",
            "7df3537a446143bdb2ea71179efba8c2",
            "72abf69388b64490866d2891df170767",
            "445fbdaa593e4a82af73359cdf82983c",
            "9738badff0f745e9b1952b45d97fb1ef",
            "e9ff1dbd371c4f828c9a80f694d9cd78",
            "edebbf64549540799fb7a3c4481479e3",
            "4d071b53c41e4326ba238ab68669e9db",
            "889849add8a141f2995137e508bbc4ff"
          ]
        },
        "id": "72e67beb",
        "outputId": "b6f65b00-95bb-40b3-894f-fcbbcca4c13b"
      },
      "outputs": [
        {
          "name": "stdout",
          "output_type": "stream",
          "text": [
            "Downloading http://yann.lecun.com/exdb/mnist/train-images-idx3-ubyte.gz\n",
            "Downloading http://yann.lecun.com/exdb/mnist/train-images-idx3-ubyte.gz to ../data/MNIST/raw/train-images-idx3-ubyte.gz\n"
          ]
        },
        {
          "name": "stderr",
          "output_type": "stream",
          "text": [
            "100%|██████████| 9912422/9912422 [00:00<00:00, 265488159.36it/s]"
          ]
        },
        {
          "name": "stdout",
          "output_type": "stream",
          "text": [
            "Extracting ../data/MNIST/raw/train-images-idx3-ubyte.gz to ../data/MNIST/raw\n"
          ]
        },
        {
          "name": "stderr",
          "output_type": "stream",
          "text": [
            "\n"
          ]
        },
        {
          "name": "stdout",
          "output_type": "stream",
          "text": [
            "\n",
            "Downloading http://yann.lecun.com/exdb/mnist/train-labels-idx1-ubyte.gz\n",
            "Downloading http://yann.lecun.com/exdb/mnist/train-labels-idx1-ubyte.gz to ../data/MNIST/raw/train-labels-idx1-ubyte.gz\n"
          ]
        },
        {
          "name": "stderr",
          "output_type": "stream",
          "text": [
            "100%|██████████| 28881/28881 [00:00<00:00, 34659712.11it/s]"
          ]
        },
        {
          "name": "stdout",
          "output_type": "stream",
          "text": [
            "Extracting ../data/MNIST/raw/train-labels-idx1-ubyte.gz to ../data/MNIST/raw\n",
            "\n",
            "Downloading http://yann.lecun.com/exdb/mnist/t10k-images-idx3-ubyte.gz\n",
            "Downloading http://yann.lecun.com/exdb/mnist/t10k-images-idx3-ubyte.gz to ../data/MNIST/raw/t10k-images-idx3-ubyte.gz\n"
          ]
        },
        {
          "name": "stderr",
          "output_type": "stream",
          "text": [
            "\n",
            "100%|██████████| 1648877/1648877 [00:00<00:00, 119204567.57it/s]\n"
          ]
        },
        {
          "name": "stdout",
          "output_type": "stream",
          "text": [
            "Extracting ../data/MNIST/raw/t10k-images-idx3-ubyte.gz to ../data/MNIST/raw\n",
            "\n",
            "Downloading http://yann.lecun.com/exdb/mnist/t10k-labels-idx1-ubyte.gz\n",
            "Downloading http://yann.lecun.com/exdb/mnist/t10k-labels-idx1-ubyte.gz to ../data/MNIST/raw/t10k-labels-idx1-ubyte.gz\n"
          ]
        },
        {
          "name": "stderr",
          "output_type": "stream",
          "text": [
            "100%|██████████| 4542/4542 [00:00<00:00, 13359417.09it/s]"
          ]
        },
        {
          "name": "stdout",
          "output_type": "stream",
          "text": [
            "Extracting ../data/MNIST/raw/t10k-labels-idx1-ubyte.gz to ../data/MNIST/raw\n",
            "\n"
          ]
        },
        {
          "name": "stderr",
          "output_type": "stream",
          "text": [
            "\n"
          ]
        },
        {
          "data": {
            "application/vnd.jupyter.widget-view+json": {
              "model_id": "8ab080906bb44bb7af4f425dcf44e433",
              "version_major": 2,
              "version_minor": 0
            },
            "text/plain": [
              "  0%|          | 0/60000 [00:00<?, ?it/s]"
            ]
          },
          "metadata": {},
          "output_type": "display_data"
        }
      ],
      "source": [
        "create_dir('../real_images_MNIST')\n",
        "\n",
        "real_dataset = MNIST(root='../data', download=True, train=True, transform=T.Compose([T.Resize((32, 32))]))\n",
        "for idx, (image_mnist, label) in enumerate(tqdm(real_dataset, total=len(real_dataset))):\n",
        "    image = np.array(image_mnist)\n",
        "    imsave(\"../real_images_MNIST/{}.png\".format(idx), image)"
      ]
    },
    {
      "cell_type": "markdown",
      "id": "fabbea8d",
      "metadata": {
        "id": "fabbea8d"
      },
      "source": [
        "#### Определим папку для синтетических картинок и сгенерируем 60к картинок"
      ]
    },
    {
      "cell_type": "code",
      "execution_count": null,
      "id": "c0538815",
      "metadata": {
        "id": "c0538815"
      },
      "outputs": [],
      "source": [
        "uncond_diff = DiffusionRunner(create_default_mnist_config(), eval=True)"
      ]
    },
    {
      "cell_type": "code",
      "execution_count": null,
      "id": "5dd28b16",
      "metadata": {
        "colab": {
          "base_uri": "https://localhost:8080/",
          "height": 307,
          "referenced_widgets": [
            "ddd9470cc3b448feb1a72c3e96f33784",
            "484a3475366a4072908a10475b70b5ac",
            "9c88172cdcdb4de59a218b6e0059174e",
            "355939f6655c4649940b7859a3b57317",
            "ef3cb9a45d804766868057d48047f79b",
            "0d7479c0ca1148dc85e943174239d1ca",
            "9b407532865f4ef6a7adf0daecc6cf3e",
            "bec8ae8618ba462d88afcf67ce90edfb",
            "cbf53612af664ab6bafe23659352d57d",
            "083944aa63054e86913570b0d97503e2",
            "292a23f0c6f74146a80baa932893af6e"
          ]
        },
        "id": "5dd28b16",
        "outputId": "a758aa0a-57d6-4ca7-bada-dc2812cd1515"
      },
      "outputs": [
        {
          "data": {
            "application/vnd.jupyter.widget-view+json": {
              "model_id": "ddd9470cc3b448feb1a72c3e96f33784",
              "version_major": 2,
              "version_minor": 0
            },
            "text/plain": [
              "  0%|          | 0/300 [00:00<?, ?it/s]"
            ]
          },
          "metadata": {},
          "output_type": "display_data"
        },
        {
          "name": "stderr",
          "output_type": "stream",
          "text": [
            "<ipython-input-12-bdf0b39da796>:13: UserWarning: ../uncond_mnist/11339.png is a low contrast image\n",
            "  imsave(os.path.join('../uncond_mnist', f'{global_idx}.png'), images[i])\n",
            "<ipython-input-12-bdf0b39da796>:13: UserWarning: ../uncond_mnist/12337.png is a low contrast image\n",
            "  imsave(os.path.join('../uncond_mnist', f'{global_idx}.png'), images[i])\n",
            "<ipython-input-12-bdf0b39da796>:13: UserWarning: ../uncond_mnist/14351.png is a low contrast image\n",
            "  imsave(os.path.join('../uncond_mnist', f'{global_idx}.png'), images[i])\n",
            "<ipython-input-12-bdf0b39da796>:13: UserWarning: ../uncond_mnist/20749.png is a low contrast image\n",
            "  imsave(os.path.join('../uncond_mnist', f'{global_idx}.png'), images[i])\n",
            "<ipython-input-12-bdf0b39da796>:13: UserWarning: ../uncond_mnist/27292.png is a low contrast image\n",
            "  imsave(os.path.join('../uncond_mnist', f'{global_idx}.png'), images[i])\n",
            "<ipython-input-12-bdf0b39da796>:13: UserWarning: ../uncond_mnist/27512.png is a low contrast image\n",
            "  imsave(os.path.join('../uncond_mnist', f'{global_idx}.png'), images[i])\n",
            "<ipython-input-12-bdf0b39da796>:13: UserWarning: ../uncond_mnist/46368.png is a low contrast image\n",
            "  imsave(os.path.join('../uncond_mnist', f'{global_idx}.png'), images[i])\n"
          ]
        }
      ],
      "source": [
        "create_dir('../uncond_mnist')\n",
        "\n",
        "TOTAL_IMAGES_COUNT = 60_000\n",
        "BATCH_SIZE = 200\n",
        "NUM_ITERS = TOTAL_IMAGES_COUNT // BATCH_SIZE\n",
        "\n",
        "global_idx = 0\n",
        "for idx in trange(NUM_ITERS):\n",
        "    images: torch.Tensor = uncond_diff.sample_images(batch_size=BATCH_SIZE).cpu()\n",
        "    images = images.permute(0, 2, 3, 1).data.numpy().astype(np.uint8)\n",
        "\n",
        "    for i in range(len(images)):\n",
        "        imsave(os.path.join('../uncond_mnist', f'{global_idx}.png'), images[i])\n",
        "        global_idx += 1"
      ]
    },
    {
      "cell_type": "code",
      "execution_count": null,
      "id": "7ae0649a",
      "metadata": {
        "colab": {
          "base_uri": "https://localhost:8080/"
        },
        "id": "7ae0649a",
        "outputId": "5506ec8a-ffa9-4adf-e028-7ab7a97d6b6f"
      },
      "outputs": [
        {
          "name": "stderr",
          "output_type": "stream",
          "text": [
            "Downloading: \"https://github.com/mseitzer/pytorch-fid/releases/download/fid_weights/pt_inception-2015-12-05-6726825d.pth\" to /root/.cache/torch/hub/checkpoints/pt_inception-2015-12-05-6726825d.pth\n",
            "100%|██████████| 91.2M/91.2M [00:02<00:00, 44.8MB/s]\n",
            "100%|██████████| 300/300 [00:29<00:00, 10.13it/s]\n",
            "100%|██████████| 300/300 [00:29<00:00, 10.15it/s]\n"
          ]
        },
        {
          "data": {
            "text/plain": [
              "18.758689161152915"
            ]
          },
          "execution_count": 14,
          "metadata": {},
          "output_type": "execute_result"
        }
      ],
      "source": [
        "fid_value = fid_score.calculate_fid_given_paths(\n",
        "        paths=['../real_images_MNIST', '../uncond_mnist'],\n",
        "        batch_size=200,\n",
        "        device=device,\n",
        "        dims=2048\n",
        "    )\n",
        "fid_value"
      ]
    },
    {
      "cell_type": "markdown",
      "id": "525ea8ea",
      "metadata": {
        "id": "525ea8ea"
      },
      "source": [
        "> Какой фид получился? Сравните FID для безусловной генерации и для условной. Сгенерируйте для каждого класса по 6к картинок и посчитайте FID между реальными и условно сгенерированными картинками."
      ]
    },
    {
      "cell_type": "markdown",
      "id": "nveo929vF_71",
      "metadata": {
        "id": "nveo929vF_71"
      },
      "source": [
        "18.8"
      ]
    },
    {
      "cell_type": "markdown",
      "id": "VhQ7dh52y5CG",
      "metadata": {
        "id": "VhQ7dh52y5CG"
      },
      "source": [
        "#### Условная генерация"
      ]
    },
    {
      "cell_type": "markdown",
      "id": "f9fe21ec",
      "metadata": {
        "id": "f9fe21ec"
      },
      "source": [
        "Разобьем MNIST по папкам классов:"
      ]
    },
    {
      "cell_type": "code",
      "execution_count": null,
      "id": "cN5BA4IYiU6W",
      "metadata": {
        "id": "cN5BA4IYiU6W"
      },
      "outputs": [],
      "source": [
        "for i in range(10):\n",
        "    create_dir(f'../cond_mnist/{i}')\n",
        "    create_dir(f'../real_images_MNIST/{i}')"
      ]
    },
    {
      "cell_type": "code",
      "execution_count": null,
      "id": "4be3ec74",
      "metadata": {
        "colab": {
          "base_uri": "https://localhost:8080/",
          "height": 49,
          "referenced_widgets": [
            "eff079a5d2b5469fa0d7dfec1afd1227",
            "68004302ab374ac487edceefbd7eedd1",
            "c3a1f0f4fe424ef5880b41d21a10e4cb",
            "1a5578773c224ac4b4de53df0c0cc9dc",
            "8be3925607704666af4cbd516b7f3246",
            "7e4254e0ee4b4b308763a439204b0d72",
            "f2229b9fddef4639a5a07d420a6170aa",
            "ba57034aeaed4ebf9f423d95383339ff",
            "da24e40966944f8882c2141ceb807e94",
            "d5462253bebd4c8fb6ddbd8cb37beead",
            "3ac4f65c839542ffa2404d7fe342963d"
          ]
        },
        "id": "4be3ec74",
        "outputId": "f5eb2c2e-e1c2-4329-d9af-e9f8972b7c04"
      },
      "outputs": [
        {
          "data": {
            "application/vnd.jupyter.widget-view+json": {
              "model_id": "eff079a5d2b5469fa0d7dfec1afd1227",
              "version_major": 2,
              "version_minor": 0
            },
            "text/plain": [
              "  0%|          | 0/60000 [00:00<?, ?it/s]"
            ]
          },
          "metadata": {},
          "output_type": "display_data"
        }
      ],
      "source": [
        "for idx, (image_mnist, label) in enumerate(tqdm(real_dataset, total=len(real_dataset))):\n",
        "    image = np.array(image_mnist)\n",
        "    imsave(f\"../real_images_MNIST/{label}/{idx}.png\", image)"
      ]
    },
    {
      "cell_type": "markdown",
      "id": "2c74ed74",
      "metadata": {
        "id": "2c74ed74"
      },
      "source": [
        "Сгенерируем картинки условной генерацией:"
      ]
    },
    {
      "cell_type": "code",
      "execution_count": null,
      "id": "349a2cd7",
      "metadata": {
        "id": "349a2cd7"
      },
      "outputs": [],
      "source": [
        "classifier_args = {\n",
        "    \"block\": ResidualBlock,\n",
        "    \"layers\": [2, 2, 2, 2]\n",
        "}\n",
        "noisy_classifier = ConditionalResNet(**classifier_args)\n",
        "noisy_classifier.to(device)\n",
        "\n",
        "noisy_classifier.load_state_dict(torch.load('./ddpm_checkpoints/classifier.pth'))\n",
        "\n",
        "T = 1.0 \n",
        "\n",
        "cond_diff = DiffusionRunner(create_default_mnist_config(), eval=True)\n",
        "cond_diff.set_classifier(noisy_classifier.eval(), T=T)\n",
        "create_dir('../cond_mnist')"
      ]
    },
    {
      "cell_type": "code",
      "execution_count": null,
      "id": "0a3ca410",
      "metadata": {
        "id": "0a3ca410"
      },
      "outputs": [],
      "source": [
        "def sample_class(class_num: int):\n",
        "    TOTAL_IMAGES_COUNT = 6_000\n",
        "    BATCH_SIZE = 200\n",
        "    NUM_ITERS = TOTAL_IMAGES_COUNT // BATCH_SIZE\n",
        "    dir_name = f'../cond_mnist/{class_num}'\n",
        "\n",
        "    global_idx = 0\n",
        "    for idx in range(NUM_ITERS):\n",
        "        y = class_num * torch.ones(BATCH_SIZE, dtype=torch.long)\n",
        "        images: torch.Tensor = cond_diff.sample_images(batch_size=BATCH_SIZE, labels=y).cpu()\n",
        "        images = images.permute(0, 2, 3, 1).data.numpy().astype(np.uint8)\n",
        "\n",
        "        for i in range(len(images)):\n",
        "            imsave(os.path.join(dir_name, f'{global_idx}.png'), images[i])\n",
        "            global_idx += 1"
      ]
    },
    {
      "cell_type": "code",
      "execution_count": null,
      "id": "613a7a99",
      "metadata": {
        "id": "613a7a99"
      },
      "outputs": [],
      "source": [
        "fid_values = []\n",
        "for i in trange(10):\n",
        "    sample_class(i)\n",
        "    fid_value = fid_score.calculate_fid_given_paths(\n",
        "        paths=[f'../real_images_MNIST/{i}', f'../cond_mnist/{i}'],\n",
        "        batch_size=200,\n",
        "        device=device,\n",
        "        dims=2048\n",
        "    )\n",
        "    fid_values.append(fid_value)"
      ]
    },
    {
      "cell_type": "code",
      "execution_count": null,
      "id": "Jb8gjB3tjvPW",
      "metadata": {
        "colab": {
          "base_uri": "https://localhost:8080/"
        },
        "id": "Jb8gjB3tjvPW",
        "outputId": "55baa0c6-66c9-4422-d45e-734041f066fc"
      },
      "outputs": [
        {
          "name": "stdout",
          "output_type": "stream",
          "text": [
            "Class 0 FID = 18.257824641622506\n",
            "Class 1 FID = 26.605954668569055\n",
            "Class 2 FID = 21.13187946369723\n",
            "Class 3 FID = 21.40748077353132\n",
            "Class 4 FID = 22.125964517526683\n",
            "Class 5 FID = 22.299480751186366\n",
            "Class 6 FID = 25.707515630812395\n",
            "Class 7 FID = 20.083946369352816\n",
            "Class 8 FID = 24.73293477124298\n",
            "Class 9 FID = 24.6966394821155\n"
          ]
        }
      ],
      "source": [
        "for i in range(10):\n",
        "    print(f\"Class {i} FID = {fid_values[i]}\")"
      ]
    },
    {
      "cell_type": "markdown",
      "id": "146f8ef4",
      "metadata": {
        "id": "146f8ef4"
      },
      "source": [
        "Посчитаем общий FID:"
      ]
    },
    {
      "cell_type": "code",
      "execution_count": null,
      "id": "3e0f7b3f",
      "metadata": {
        "id": "3e0f7b3f"
      },
      "outputs": [],
      "source": [
        "create_dir('../cond_mnist/all')\n",
        "for i in range(10):\n",
        "    files = os.listdir(f'../cond_mnist/{i}')\n",
        "    for file_name in files:\n",
        "        shutil.move(f'../cond_mnist/{i}/{file_name}', f'../cond_mnist/all/{file_name}')"
      ]
    },
    {
      "cell_type": "code",
      "execution_count": null,
      "id": "8e049643",
      "metadata": {
        "colab": {
          "base_uri": "https://localhost:8080/"
        },
        "id": "8e049643",
        "outputId": "8869e0b5-18b0-4554-caba-d40f804abfa8"
      },
      "outputs": [
        {
          "name": "stderr",
          "output_type": "stream",
          "text": [
            "100%|██████████| 300/300 [00:29<00:00, 10.17it/s]\n",
            "100%|██████████| 30/30 [00:03<00:00,  9.65it/s]\n"
          ]
        },
        {
          "data": {
            "text/plain": [
              "43.110569191291546"
            ]
          },
          "execution_count": 23,
          "metadata": {},
          "output_type": "execute_result"
        }
      ],
      "source": [
        "fid_value = fid_score.calculate_fid_given_paths(\n",
        "    paths=['../real_images_MNIST', '../cond_mnist/all'],\n",
        "    batch_size=200,\n",
        "    device=device,\n",
        "    dims=2048\n",
        ")\n",
        "fid_value"
      ]
    },
    {
      "cell_type": "markdown",
      "id": "Xuf9BW5HH9Se",
      "metadata": {
        "id": "Xuf9BW5HH9Se"
      },
      "source": [
        "К сожалению получилось больше, чем при безусловной оптимизации. Стоит учесть, что мы не занимались подбором гиперпараметра температуры (веса классификатора в скоре). При слишком большой температуре картинки не будут похожи на соответствующие классы (т.е. результат почти как при безусловной генерации), но при недостаточно большой температуре, картинки будут слишком однообразными что уменьшит FID."
      ]
    }
  ],
  "metadata": {
    "accelerator": "GPU",
    "colab": {
      "provenance": []
    },
    "gpuClass": "premium",
    "kernelspec": {
      "display_name": "Python 3.10.6 64-bit",
      "language": "python",
      "name": "python3"
    },
    "language_info": {
      "codemirror_mode": {
        "name": "ipython",
        "version": 3
      },
      "file_extension": ".py",
      "mimetype": "text/x-python",
      "name": "python",
      "nbconvert_exporter": "python",
      "pygments_lexer": "ipython3",
      "version": "3.10.6"
    },
    "vscode": {
      "interpreter": {
        "hash": "916dbcbb3f70747c44a77c7bcd40155683ae19c65e1c03b4aa3499c5328201f1"
      }
    },
    "widgets": {
      "application/vnd.jupyter.widget-state+json": {
        "083944aa63054e86913570b0d97503e2": {
          "model_module": "@jupyter-widgets/base",
          "model_module_version": "1.2.0",
          "model_name": "LayoutModel",
          "state": {
            "_model_module": "@jupyter-widgets/base",
            "_model_module_version": "1.2.0",
            "_model_name": "LayoutModel",
            "_view_count": null,
            "_view_module": "@jupyter-widgets/base",
            "_view_module_version": "1.2.0",
            "_view_name": "LayoutView",
            "align_content": null,
            "align_items": null,
            "align_self": null,
            "border": null,
            "bottom": null,
            "display": null,
            "flex": null,
            "flex_flow": null,
            "grid_area": null,
            "grid_auto_columns": null,
            "grid_auto_flow": null,
            "grid_auto_rows": null,
            "grid_column": null,
            "grid_gap": null,
            "grid_row": null,
            "grid_template_areas": null,
            "grid_template_columns": null,
            "grid_template_rows": null,
            "height": null,
            "justify_content": null,
            "justify_items": null,
            "left": null,
            "margin": null,
            "max_height": null,
            "max_width": null,
            "min_height": null,
            "min_width": null,
            "object_fit": null,
            "object_position": null,
            "order": null,
            "overflow": null,
            "overflow_x": null,
            "overflow_y": null,
            "padding": null,
            "right": null,
            "top": null,
            "visibility": null,
            "width": null
          }
        },
        "0d7479c0ca1148dc85e943174239d1ca": {
          "model_module": "@jupyter-widgets/base",
          "model_module_version": "1.2.0",
          "model_name": "LayoutModel",
          "state": {
            "_model_module": "@jupyter-widgets/base",
            "_model_module_version": "1.2.0",
            "_model_name": "LayoutModel",
            "_view_count": null,
            "_view_module": "@jupyter-widgets/base",
            "_view_module_version": "1.2.0",
            "_view_name": "LayoutView",
            "align_content": null,
            "align_items": null,
            "align_self": null,
            "border": null,
            "bottom": null,
            "display": null,
            "flex": null,
            "flex_flow": null,
            "grid_area": null,
            "grid_auto_columns": null,
            "grid_auto_flow": null,
            "grid_auto_rows": null,
            "grid_column": null,
            "grid_gap": null,
            "grid_row": null,
            "grid_template_areas": null,
            "grid_template_columns": null,
            "grid_template_rows": null,
            "height": null,
            "justify_content": null,
            "justify_items": null,
            "left": null,
            "margin": null,
            "max_height": null,
            "max_width": null,
            "min_height": null,
            "min_width": null,
            "object_fit": null,
            "object_position": null,
            "order": null,
            "overflow": null,
            "overflow_x": null,
            "overflow_y": null,
            "padding": null,
            "right": null,
            "top": null,
            "visibility": null,
            "width": null
          }
        },
        "1a5578773c224ac4b4de53df0c0cc9dc": {
          "model_module": "@jupyter-widgets/controls",
          "model_module_version": "1.5.0",
          "model_name": "HTMLModel",
          "state": {
            "_dom_classes": [],
            "_model_module": "@jupyter-widgets/controls",
            "_model_module_version": "1.5.0",
            "_model_name": "HTMLModel",
            "_view_count": null,
            "_view_module": "@jupyter-widgets/controls",
            "_view_module_version": "1.5.0",
            "_view_name": "HTMLView",
            "description": "",
            "description_tooltip": null,
            "layout": "IPY_MODEL_d5462253bebd4c8fb6ddbd8cb37beead",
            "placeholder": "​",
            "style": "IPY_MODEL_3ac4f65c839542ffa2404d7fe342963d",
            "value": " 60000/60000 [00:58&lt;00:00, 1018.17it/s]"
          }
        },
        "292a23f0c6f74146a80baa932893af6e": {
          "model_module": "@jupyter-widgets/controls",
          "model_module_version": "1.5.0",
          "model_name": "DescriptionStyleModel",
          "state": {
            "_model_module": "@jupyter-widgets/controls",
            "_model_module_version": "1.5.0",
            "_model_name": "DescriptionStyleModel",
            "_view_count": null,
            "_view_module": "@jupyter-widgets/base",
            "_view_module_version": "1.2.0",
            "_view_name": "StyleView",
            "description_width": ""
          }
        },
        "355939f6655c4649940b7859a3b57317": {
          "model_module": "@jupyter-widgets/controls",
          "model_module_version": "1.5.0",
          "model_name": "HTMLModel",
          "state": {
            "_dom_classes": [],
            "_model_module": "@jupyter-widgets/controls",
            "_model_module_version": "1.5.0",
            "_model_name": "HTMLModel",
            "_view_count": null,
            "_view_module": "@jupyter-widgets/controls",
            "_view_module_version": "1.5.0",
            "_view_name": "HTMLView",
            "description": "",
            "description_tooltip": null,
            "layout": "IPY_MODEL_083944aa63054e86913570b0d97503e2",
            "placeholder": "​",
            "style": "IPY_MODEL_292a23f0c6f74146a80baa932893af6e",
            "value": " 300/300 [1:20:13&lt;00:00, 16.02s/it]"
          }
        },
        "3ac4f65c839542ffa2404d7fe342963d": {
          "model_module": "@jupyter-widgets/controls",
          "model_module_version": "1.5.0",
          "model_name": "DescriptionStyleModel",
          "state": {
            "_model_module": "@jupyter-widgets/controls",
            "_model_module_version": "1.5.0",
            "_model_name": "DescriptionStyleModel",
            "_view_count": null,
            "_view_module": "@jupyter-widgets/base",
            "_view_module_version": "1.2.0",
            "_view_name": "StyleView",
            "description_width": ""
          }
        },
        "445fbdaa593e4a82af73359cdf82983c": {
          "model_module": "@jupyter-widgets/base",
          "model_module_version": "1.2.0",
          "model_name": "LayoutModel",
          "state": {
            "_model_module": "@jupyter-widgets/base",
            "_model_module_version": "1.2.0",
            "_model_name": "LayoutModel",
            "_view_count": null,
            "_view_module": "@jupyter-widgets/base",
            "_view_module_version": "1.2.0",
            "_view_name": "LayoutView",
            "align_content": null,
            "align_items": null,
            "align_self": null,
            "border": null,
            "bottom": null,
            "display": null,
            "flex": null,
            "flex_flow": null,
            "grid_area": null,
            "grid_auto_columns": null,
            "grid_auto_flow": null,
            "grid_auto_rows": null,
            "grid_column": null,
            "grid_gap": null,
            "grid_row": null,
            "grid_template_areas": null,
            "grid_template_columns": null,
            "grid_template_rows": null,
            "height": null,
            "justify_content": null,
            "justify_items": null,
            "left": null,
            "margin": null,
            "max_height": null,
            "max_width": null,
            "min_height": null,
            "min_width": null,
            "object_fit": null,
            "object_position": null,
            "order": null,
            "overflow": null,
            "overflow_x": null,
            "overflow_y": null,
            "padding": null,
            "right": null,
            "top": null,
            "visibility": null,
            "width": null
          }
        },
        "484a3475366a4072908a10475b70b5ac": {
          "model_module": "@jupyter-widgets/controls",
          "model_module_version": "1.5.0",
          "model_name": "HTMLModel",
          "state": {
            "_dom_classes": [],
            "_model_module": "@jupyter-widgets/controls",
            "_model_module_version": "1.5.0",
            "_model_name": "HTMLModel",
            "_view_count": null,
            "_view_module": "@jupyter-widgets/controls",
            "_view_module_version": "1.5.0",
            "_view_name": "HTMLView",
            "description": "",
            "description_tooltip": null,
            "layout": "IPY_MODEL_0d7479c0ca1148dc85e943174239d1ca",
            "placeholder": "​",
            "style": "IPY_MODEL_9b407532865f4ef6a7adf0daecc6cf3e",
            "value": "100%"
          }
        },
        "4d071b53c41e4326ba238ab68669e9db": {
          "model_module": "@jupyter-widgets/base",
          "model_module_version": "1.2.0",
          "model_name": "LayoutModel",
          "state": {
            "_model_module": "@jupyter-widgets/base",
            "_model_module_version": "1.2.0",
            "_model_name": "LayoutModel",
            "_view_count": null,
            "_view_module": "@jupyter-widgets/base",
            "_view_module_version": "1.2.0",
            "_view_name": "LayoutView",
            "align_content": null,
            "align_items": null,
            "align_self": null,
            "border": null,
            "bottom": null,
            "display": null,
            "flex": null,
            "flex_flow": null,
            "grid_area": null,
            "grid_auto_columns": null,
            "grid_auto_flow": null,
            "grid_auto_rows": null,
            "grid_column": null,
            "grid_gap": null,
            "grid_row": null,
            "grid_template_areas": null,
            "grid_template_columns": null,
            "grid_template_rows": null,
            "height": null,
            "justify_content": null,
            "justify_items": null,
            "left": null,
            "margin": null,
            "max_height": null,
            "max_width": null,
            "min_height": null,
            "min_width": null,
            "object_fit": null,
            "object_position": null,
            "order": null,
            "overflow": null,
            "overflow_x": null,
            "overflow_y": null,
            "padding": null,
            "right": null,
            "top": null,
            "visibility": null,
            "width": null
          }
        },
        "6487cf40dc224fadbf24792fa9032b9c": {
          "model_module": "@jupyter-widgets/controls",
          "model_module_version": "1.5.0",
          "model_name": "HTMLModel",
          "state": {
            "_dom_classes": [],
            "_model_module": "@jupyter-widgets/controls",
            "_model_module_version": "1.5.0",
            "_model_name": "HTMLModel",
            "_view_count": null,
            "_view_module": "@jupyter-widgets/controls",
            "_view_module_version": "1.5.0",
            "_view_name": "HTMLView",
            "description": "",
            "description_tooltip": null,
            "layout": "IPY_MODEL_445fbdaa593e4a82af73359cdf82983c",
            "placeholder": "​",
            "style": "IPY_MODEL_9738badff0f745e9b1952b45d97fb1ef",
            "value": "100%"
          }
        },
        "68004302ab374ac487edceefbd7eedd1": {
          "model_module": "@jupyter-widgets/controls",
          "model_module_version": "1.5.0",
          "model_name": "HTMLModel",
          "state": {
            "_dom_classes": [],
            "_model_module": "@jupyter-widgets/controls",
            "_model_module_version": "1.5.0",
            "_model_name": "HTMLModel",
            "_view_count": null,
            "_view_module": "@jupyter-widgets/controls",
            "_view_module_version": "1.5.0",
            "_view_name": "HTMLView",
            "description": "",
            "description_tooltip": null,
            "layout": "IPY_MODEL_7e4254e0ee4b4b308763a439204b0d72",
            "placeholder": "​",
            "style": "IPY_MODEL_f2229b9fddef4639a5a07d420a6170aa",
            "value": "100%"
          }
        },
        "72abf69388b64490866d2891df170767": {
          "model_module": "@jupyter-widgets/base",
          "model_module_version": "1.2.0",
          "model_name": "LayoutModel",
          "state": {
            "_model_module": "@jupyter-widgets/base",
            "_model_module_version": "1.2.0",
            "_model_name": "LayoutModel",
            "_view_count": null,
            "_view_module": "@jupyter-widgets/base",
            "_view_module_version": "1.2.0",
            "_view_name": "LayoutView",
            "align_content": null,
            "align_items": null,
            "align_self": null,
            "border": null,
            "bottom": null,
            "display": null,
            "flex": null,
            "flex_flow": null,
            "grid_area": null,
            "grid_auto_columns": null,
            "grid_auto_flow": null,
            "grid_auto_rows": null,
            "grid_column": null,
            "grid_gap": null,
            "grid_row": null,
            "grid_template_areas": null,
            "grid_template_columns": null,
            "grid_template_rows": null,
            "height": null,
            "justify_content": null,
            "justify_items": null,
            "left": null,
            "margin": null,
            "max_height": null,
            "max_width": null,
            "min_height": null,
            "min_width": null,
            "object_fit": null,
            "object_position": null,
            "order": null,
            "overflow": null,
            "overflow_x": null,
            "overflow_y": null,
            "padding": null,
            "right": null,
            "top": null,
            "visibility": null,
            "width": null
          }
        },
        "7df3537a446143bdb2ea71179efba8c2": {
          "model_module": "@jupyter-widgets/controls",
          "model_module_version": "1.5.0",
          "model_name": "HTMLModel",
          "state": {
            "_dom_classes": [],
            "_model_module": "@jupyter-widgets/controls",
            "_model_module_version": "1.5.0",
            "_model_name": "HTMLModel",
            "_view_count": null,
            "_view_module": "@jupyter-widgets/controls",
            "_view_module_version": "1.5.0",
            "_view_name": "HTMLView",
            "description": "",
            "description_tooltip": null,
            "layout": "IPY_MODEL_4d071b53c41e4326ba238ab68669e9db",
            "placeholder": "​",
            "style": "IPY_MODEL_889849add8a141f2995137e508bbc4ff",
            "value": " 60000/60000 [00:58&lt;00:00, 1040.28it/s]"
          }
        },
        "7e4254e0ee4b4b308763a439204b0d72": {
          "model_module": "@jupyter-widgets/base",
          "model_module_version": "1.2.0",
          "model_name": "LayoutModel",
          "state": {
            "_model_module": "@jupyter-widgets/base",
            "_model_module_version": "1.2.0",
            "_model_name": "LayoutModel",
            "_view_count": null,
            "_view_module": "@jupyter-widgets/base",
            "_view_module_version": "1.2.0",
            "_view_name": "LayoutView",
            "align_content": null,
            "align_items": null,
            "align_self": null,
            "border": null,
            "bottom": null,
            "display": null,
            "flex": null,
            "flex_flow": null,
            "grid_area": null,
            "grid_auto_columns": null,
            "grid_auto_flow": null,
            "grid_auto_rows": null,
            "grid_column": null,
            "grid_gap": null,
            "grid_row": null,
            "grid_template_areas": null,
            "grid_template_columns": null,
            "grid_template_rows": null,
            "height": null,
            "justify_content": null,
            "justify_items": null,
            "left": null,
            "margin": null,
            "max_height": null,
            "max_width": null,
            "min_height": null,
            "min_width": null,
            "object_fit": null,
            "object_position": null,
            "order": null,
            "overflow": null,
            "overflow_x": null,
            "overflow_y": null,
            "padding": null,
            "right": null,
            "top": null,
            "visibility": null,
            "width": null
          }
        },
        "889849add8a141f2995137e508bbc4ff": {
          "model_module": "@jupyter-widgets/controls",
          "model_module_version": "1.5.0",
          "model_name": "DescriptionStyleModel",
          "state": {
            "_model_module": "@jupyter-widgets/controls",
            "_model_module_version": "1.5.0",
            "_model_name": "DescriptionStyleModel",
            "_view_count": null,
            "_view_module": "@jupyter-widgets/base",
            "_view_module_version": "1.2.0",
            "_view_name": "StyleView",
            "description_width": ""
          }
        },
        "8ab080906bb44bb7af4f425dcf44e433": {
          "model_module": "@jupyter-widgets/controls",
          "model_module_version": "1.5.0",
          "model_name": "HBoxModel",
          "state": {
            "_dom_classes": [],
            "_model_module": "@jupyter-widgets/controls",
            "_model_module_version": "1.5.0",
            "_model_name": "HBoxModel",
            "_view_count": null,
            "_view_module": "@jupyter-widgets/controls",
            "_view_module_version": "1.5.0",
            "_view_name": "HBoxView",
            "box_style": "",
            "children": [
              "IPY_MODEL_6487cf40dc224fadbf24792fa9032b9c",
              "IPY_MODEL_cf7ae06895894ee998cd6f084296759c",
              "IPY_MODEL_7df3537a446143bdb2ea71179efba8c2"
            ],
            "layout": "IPY_MODEL_72abf69388b64490866d2891df170767"
          }
        },
        "8be3925607704666af4cbd516b7f3246": {
          "model_module": "@jupyter-widgets/base",
          "model_module_version": "1.2.0",
          "model_name": "LayoutModel",
          "state": {
            "_model_module": "@jupyter-widgets/base",
            "_model_module_version": "1.2.0",
            "_model_name": "LayoutModel",
            "_view_count": null,
            "_view_module": "@jupyter-widgets/base",
            "_view_module_version": "1.2.0",
            "_view_name": "LayoutView",
            "align_content": null,
            "align_items": null,
            "align_self": null,
            "border": null,
            "bottom": null,
            "display": null,
            "flex": null,
            "flex_flow": null,
            "grid_area": null,
            "grid_auto_columns": null,
            "grid_auto_flow": null,
            "grid_auto_rows": null,
            "grid_column": null,
            "grid_gap": null,
            "grid_row": null,
            "grid_template_areas": null,
            "grid_template_columns": null,
            "grid_template_rows": null,
            "height": null,
            "justify_content": null,
            "justify_items": null,
            "left": null,
            "margin": null,
            "max_height": null,
            "max_width": null,
            "min_height": null,
            "min_width": null,
            "object_fit": null,
            "object_position": null,
            "order": null,
            "overflow": null,
            "overflow_x": null,
            "overflow_y": null,
            "padding": null,
            "right": null,
            "top": null,
            "visibility": null,
            "width": null
          }
        },
        "9738badff0f745e9b1952b45d97fb1ef": {
          "model_module": "@jupyter-widgets/controls",
          "model_module_version": "1.5.0",
          "model_name": "DescriptionStyleModel",
          "state": {
            "_model_module": "@jupyter-widgets/controls",
            "_model_module_version": "1.5.0",
            "_model_name": "DescriptionStyleModel",
            "_view_count": null,
            "_view_module": "@jupyter-widgets/base",
            "_view_module_version": "1.2.0",
            "_view_name": "StyleView",
            "description_width": ""
          }
        },
        "9b407532865f4ef6a7adf0daecc6cf3e": {
          "model_module": "@jupyter-widgets/controls",
          "model_module_version": "1.5.0",
          "model_name": "DescriptionStyleModel",
          "state": {
            "_model_module": "@jupyter-widgets/controls",
            "_model_module_version": "1.5.0",
            "_model_name": "DescriptionStyleModel",
            "_view_count": null,
            "_view_module": "@jupyter-widgets/base",
            "_view_module_version": "1.2.0",
            "_view_name": "StyleView",
            "description_width": ""
          }
        },
        "9c88172cdcdb4de59a218b6e0059174e": {
          "model_module": "@jupyter-widgets/controls",
          "model_module_version": "1.5.0",
          "model_name": "FloatProgressModel",
          "state": {
            "_dom_classes": [],
            "_model_module": "@jupyter-widgets/controls",
            "_model_module_version": "1.5.0",
            "_model_name": "FloatProgressModel",
            "_view_count": null,
            "_view_module": "@jupyter-widgets/controls",
            "_view_module_version": "1.5.0",
            "_view_name": "ProgressView",
            "bar_style": "success",
            "description": "",
            "description_tooltip": null,
            "layout": "IPY_MODEL_bec8ae8618ba462d88afcf67ce90edfb",
            "max": 300,
            "min": 0,
            "orientation": "horizontal",
            "style": "IPY_MODEL_cbf53612af664ab6bafe23659352d57d",
            "value": 300
          }
        },
        "ba57034aeaed4ebf9f423d95383339ff": {
          "model_module": "@jupyter-widgets/base",
          "model_module_version": "1.2.0",
          "model_name": "LayoutModel",
          "state": {
            "_model_module": "@jupyter-widgets/base",
            "_model_module_version": "1.2.0",
            "_model_name": "LayoutModel",
            "_view_count": null,
            "_view_module": "@jupyter-widgets/base",
            "_view_module_version": "1.2.0",
            "_view_name": "LayoutView",
            "align_content": null,
            "align_items": null,
            "align_self": null,
            "border": null,
            "bottom": null,
            "display": null,
            "flex": null,
            "flex_flow": null,
            "grid_area": null,
            "grid_auto_columns": null,
            "grid_auto_flow": null,
            "grid_auto_rows": null,
            "grid_column": null,
            "grid_gap": null,
            "grid_row": null,
            "grid_template_areas": null,
            "grid_template_columns": null,
            "grid_template_rows": null,
            "height": null,
            "justify_content": null,
            "justify_items": null,
            "left": null,
            "margin": null,
            "max_height": null,
            "max_width": null,
            "min_height": null,
            "min_width": null,
            "object_fit": null,
            "object_position": null,
            "order": null,
            "overflow": null,
            "overflow_x": null,
            "overflow_y": null,
            "padding": null,
            "right": null,
            "top": null,
            "visibility": null,
            "width": null
          }
        },
        "bec8ae8618ba462d88afcf67ce90edfb": {
          "model_module": "@jupyter-widgets/base",
          "model_module_version": "1.2.0",
          "model_name": "LayoutModel",
          "state": {
            "_model_module": "@jupyter-widgets/base",
            "_model_module_version": "1.2.0",
            "_model_name": "LayoutModel",
            "_view_count": null,
            "_view_module": "@jupyter-widgets/base",
            "_view_module_version": "1.2.0",
            "_view_name": "LayoutView",
            "align_content": null,
            "align_items": null,
            "align_self": null,
            "border": null,
            "bottom": null,
            "display": null,
            "flex": null,
            "flex_flow": null,
            "grid_area": null,
            "grid_auto_columns": null,
            "grid_auto_flow": null,
            "grid_auto_rows": null,
            "grid_column": null,
            "grid_gap": null,
            "grid_row": null,
            "grid_template_areas": null,
            "grid_template_columns": null,
            "grid_template_rows": null,
            "height": null,
            "justify_content": null,
            "justify_items": null,
            "left": null,
            "margin": null,
            "max_height": null,
            "max_width": null,
            "min_height": null,
            "min_width": null,
            "object_fit": null,
            "object_position": null,
            "order": null,
            "overflow": null,
            "overflow_x": null,
            "overflow_y": null,
            "padding": null,
            "right": null,
            "top": null,
            "visibility": null,
            "width": null
          }
        },
        "c3a1f0f4fe424ef5880b41d21a10e4cb": {
          "model_module": "@jupyter-widgets/controls",
          "model_module_version": "1.5.0",
          "model_name": "FloatProgressModel",
          "state": {
            "_dom_classes": [],
            "_model_module": "@jupyter-widgets/controls",
            "_model_module_version": "1.5.0",
            "_model_name": "FloatProgressModel",
            "_view_count": null,
            "_view_module": "@jupyter-widgets/controls",
            "_view_module_version": "1.5.0",
            "_view_name": "ProgressView",
            "bar_style": "success",
            "description": "",
            "description_tooltip": null,
            "layout": "IPY_MODEL_ba57034aeaed4ebf9f423d95383339ff",
            "max": 60000,
            "min": 0,
            "orientation": "horizontal",
            "style": "IPY_MODEL_da24e40966944f8882c2141ceb807e94",
            "value": 60000
          }
        },
        "cbf53612af664ab6bafe23659352d57d": {
          "model_module": "@jupyter-widgets/controls",
          "model_module_version": "1.5.0",
          "model_name": "ProgressStyleModel",
          "state": {
            "_model_module": "@jupyter-widgets/controls",
            "_model_module_version": "1.5.0",
            "_model_name": "ProgressStyleModel",
            "_view_count": null,
            "_view_module": "@jupyter-widgets/base",
            "_view_module_version": "1.2.0",
            "_view_name": "StyleView",
            "bar_color": null,
            "description_width": ""
          }
        },
        "cf7ae06895894ee998cd6f084296759c": {
          "model_module": "@jupyter-widgets/controls",
          "model_module_version": "1.5.0",
          "model_name": "FloatProgressModel",
          "state": {
            "_dom_classes": [],
            "_model_module": "@jupyter-widgets/controls",
            "_model_module_version": "1.5.0",
            "_model_name": "FloatProgressModel",
            "_view_count": null,
            "_view_module": "@jupyter-widgets/controls",
            "_view_module_version": "1.5.0",
            "_view_name": "ProgressView",
            "bar_style": "success",
            "description": "",
            "description_tooltip": null,
            "layout": "IPY_MODEL_e9ff1dbd371c4f828c9a80f694d9cd78",
            "max": 60000,
            "min": 0,
            "orientation": "horizontal",
            "style": "IPY_MODEL_edebbf64549540799fb7a3c4481479e3",
            "value": 60000
          }
        },
        "d5462253bebd4c8fb6ddbd8cb37beead": {
          "model_module": "@jupyter-widgets/base",
          "model_module_version": "1.2.0",
          "model_name": "LayoutModel",
          "state": {
            "_model_module": "@jupyter-widgets/base",
            "_model_module_version": "1.2.0",
            "_model_name": "LayoutModel",
            "_view_count": null,
            "_view_module": "@jupyter-widgets/base",
            "_view_module_version": "1.2.0",
            "_view_name": "LayoutView",
            "align_content": null,
            "align_items": null,
            "align_self": null,
            "border": null,
            "bottom": null,
            "display": null,
            "flex": null,
            "flex_flow": null,
            "grid_area": null,
            "grid_auto_columns": null,
            "grid_auto_flow": null,
            "grid_auto_rows": null,
            "grid_column": null,
            "grid_gap": null,
            "grid_row": null,
            "grid_template_areas": null,
            "grid_template_columns": null,
            "grid_template_rows": null,
            "height": null,
            "justify_content": null,
            "justify_items": null,
            "left": null,
            "margin": null,
            "max_height": null,
            "max_width": null,
            "min_height": null,
            "min_width": null,
            "object_fit": null,
            "object_position": null,
            "order": null,
            "overflow": null,
            "overflow_x": null,
            "overflow_y": null,
            "padding": null,
            "right": null,
            "top": null,
            "visibility": null,
            "width": null
          }
        },
        "da24e40966944f8882c2141ceb807e94": {
          "model_module": "@jupyter-widgets/controls",
          "model_module_version": "1.5.0",
          "model_name": "ProgressStyleModel",
          "state": {
            "_model_module": "@jupyter-widgets/controls",
            "_model_module_version": "1.5.0",
            "_model_name": "ProgressStyleModel",
            "_view_count": null,
            "_view_module": "@jupyter-widgets/base",
            "_view_module_version": "1.2.0",
            "_view_name": "StyleView",
            "bar_color": null,
            "description_width": ""
          }
        },
        "ddd9470cc3b448feb1a72c3e96f33784": {
          "model_module": "@jupyter-widgets/controls",
          "model_module_version": "1.5.0",
          "model_name": "HBoxModel",
          "state": {
            "_dom_classes": [],
            "_model_module": "@jupyter-widgets/controls",
            "_model_module_version": "1.5.0",
            "_model_name": "HBoxModel",
            "_view_count": null,
            "_view_module": "@jupyter-widgets/controls",
            "_view_module_version": "1.5.0",
            "_view_name": "HBoxView",
            "box_style": "",
            "children": [
              "IPY_MODEL_484a3475366a4072908a10475b70b5ac",
              "IPY_MODEL_9c88172cdcdb4de59a218b6e0059174e",
              "IPY_MODEL_355939f6655c4649940b7859a3b57317"
            ],
            "layout": "IPY_MODEL_ef3cb9a45d804766868057d48047f79b"
          }
        },
        "e9ff1dbd371c4f828c9a80f694d9cd78": {
          "model_module": "@jupyter-widgets/base",
          "model_module_version": "1.2.0",
          "model_name": "LayoutModel",
          "state": {
            "_model_module": "@jupyter-widgets/base",
            "_model_module_version": "1.2.0",
            "_model_name": "LayoutModel",
            "_view_count": null,
            "_view_module": "@jupyter-widgets/base",
            "_view_module_version": "1.2.0",
            "_view_name": "LayoutView",
            "align_content": null,
            "align_items": null,
            "align_self": null,
            "border": null,
            "bottom": null,
            "display": null,
            "flex": null,
            "flex_flow": null,
            "grid_area": null,
            "grid_auto_columns": null,
            "grid_auto_flow": null,
            "grid_auto_rows": null,
            "grid_column": null,
            "grid_gap": null,
            "grid_row": null,
            "grid_template_areas": null,
            "grid_template_columns": null,
            "grid_template_rows": null,
            "height": null,
            "justify_content": null,
            "justify_items": null,
            "left": null,
            "margin": null,
            "max_height": null,
            "max_width": null,
            "min_height": null,
            "min_width": null,
            "object_fit": null,
            "object_position": null,
            "order": null,
            "overflow": null,
            "overflow_x": null,
            "overflow_y": null,
            "padding": null,
            "right": null,
            "top": null,
            "visibility": null,
            "width": null
          }
        },
        "edebbf64549540799fb7a3c4481479e3": {
          "model_module": "@jupyter-widgets/controls",
          "model_module_version": "1.5.0",
          "model_name": "ProgressStyleModel",
          "state": {
            "_model_module": "@jupyter-widgets/controls",
            "_model_module_version": "1.5.0",
            "_model_name": "ProgressStyleModel",
            "_view_count": null,
            "_view_module": "@jupyter-widgets/base",
            "_view_module_version": "1.2.0",
            "_view_name": "StyleView",
            "bar_color": null,
            "description_width": ""
          }
        },
        "ef3cb9a45d804766868057d48047f79b": {
          "model_module": "@jupyter-widgets/base",
          "model_module_version": "1.2.0",
          "model_name": "LayoutModel",
          "state": {
            "_model_module": "@jupyter-widgets/base",
            "_model_module_version": "1.2.0",
            "_model_name": "LayoutModel",
            "_view_count": null,
            "_view_module": "@jupyter-widgets/base",
            "_view_module_version": "1.2.0",
            "_view_name": "LayoutView",
            "align_content": null,
            "align_items": null,
            "align_self": null,
            "border": null,
            "bottom": null,
            "display": null,
            "flex": null,
            "flex_flow": null,
            "grid_area": null,
            "grid_auto_columns": null,
            "grid_auto_flow": null,
            "grid_auto_rows": null,
            "grid_column": null,
            "grid_gap": null,
            "grid_row": null,
            "grid_template_areas": null,
            "grid_template_columns": null,
            "grid_template_rows": null,
            "height": null,
            "justify_content": null,
            "justify_items": null,
            "left": null,
            "margin": null,
            "max_height": null,
            "max_width": null,
            "min_height": null,
            "min_width": null,
            "object_fit": null,
            "object_position": null,
            "order": null,
            "overflow": null,
            "overflow_x": null,
            "overflow_y": null,
            "padding": null,
            "right": null,
            "top": null,
            "visibility": null,
            "width": null
          }
        },
        "eff079a5d2b5469fa0d7dfec1afd1227": {
          "model_module": "@jupyter-widgets/controls",
          "model_module_version": "1.5.0",
          "model_name": "HBoxModel",
          "state": {
            "_dom_classes": [],
            "_model_module": "@jupyter-widgets/controls",
            "_model_module_version": "1.5.0",
            "_model_name": "HBoxModel",
            "_view_count": null,
            "_view_module": "@jupyter-widgets/controls",
            "_view_module_version": "1.5.0",
            "_view_name": "HBoxView",
            "box_style": "",
            "children": [
              "IPY_MODEL_68004302ab374ac487edceefbd7eedd1",
              "IPY_MODEL_c3a1f0f4fe424ef5880b41d21a10e4cb",
              "IPY_MODEL_1a5578773c224ac4b4de53df0c0cc9dc"
            ],
            "layout": "IPY_MODEL_8be3925607704666af4cbd516b7f3246"
          }
        },
        "f2229b9fddef4639a5a07d420a6170aa": {
          "model_module": "@jupyter-widgets/controls",
          "model_module_version": "1.5.0",
          "model_name": "DescriptionStyleModel",
          "state": {
            "_model_module": "@jupyter-widgets/controls",
            "_model_module_version": "1.5.0",
            "_model_name": "DescriptionStyleModel",
            "_view_count": null,
            "_view_module": "@jupyter-widgets/base",
            "_view_module_version": "1.2.0",
            "_view_name": "StyleView",
            "description_width": ""
          }
        }
      }
    }
  },
  "nbformat": 4,
  "nbformat_minor": 5
}
