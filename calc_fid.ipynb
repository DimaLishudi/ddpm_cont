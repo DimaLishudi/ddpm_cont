{
 "cells": [
  {
   "cell_type": "code",
   "execution_count": 7,
   "id": "199b716a",
   "metadata": {},
   "outputs": [],
   "source": [
    "import torch\n",
    "import numpy as np\n",
    "\n",
    "from skimage.io import imread, imsave\n",
    "from tqdm.auto import trange, tqdm\n",
    "from torchvision.datasets import MNIST\n",
    "from pytorch_fid import fid_score\n",
    "\n",
    "from data_generator import DataGenerator\n",
    "from default_mnist_config import create_default_mnist_config\n",
    "from diffusion import DiffusionRunner\n",
    "from models.classifier import ResNet, ResidualBlock, ConditionalResNet\n",
    "\n",
    "from matplotlib import pyplot as plt\n",
    "\n",
    "import os\n",
    "import shuitl\n",
    "\n",
    "# os.environ['CUDA_VISIBLE_DEVICES'] = '1'\n",
    "device = torch.device('cuda')"
   ]
  },
  {
   "cell_type": "markdown",
   "id": "f8a96e0e",
   "metadata": {},
   "source": [
    "#### Определим папку с настоящими картинками"
   ]
  },
  {
   "cell_type": "code",
   "execution_count": 3,
   "id": "5def5c68",
   "metadata": {},
   "outputs": [],
   "source": [
    "def create_dir(path: str):\n",
    "    if not os.path.exists(path):\n",
    "        os.makedirs(path)"
   ]
  },
  {
   "cell_type": "code",
   "execution_count": 6,
   "id": "72e67beb",
   "metadata": {},
   "outputs": [
    {
     "data": {
      "application/vnd.jupyter.widget-view+json": {
       "model_id": "54594e13946e44bd93cfb870b8c5bdc3",
       "version_major": 2,
       "version_minor": 0
      },
      "text/plain": [
       "  0%|          | 0/60000 [00:00<?, ?it/s]"
      ]
     },
     "metadata": {},
     "output_type": "display_data"
    }
   ],
   "source": [
    "create_dir('../real_images_MNIST')\n",
    "\n",
    "real_dataset = MNIST(root='../data', download=True, train=True, transform=Compose([Resize((32, 32))]))\n",
    "for idx, (image_mnist, label) in enumerate(tqdm(real_dataset, total=len(real_dataset))):\n",
    "    image = np.array(image_mnist)\n",
    "    imsave(\"../real_images_MNIST/{}.png\".format(idx), image)"
   ]
  },
  {
   "cell_type": "markdown",
   "id": "fabbea8d",
   "metadata": {},
   "source": [
    "#### Определим папку для синтетических картинок и сгенерируем 60к картинок"
   ]
  },
  {
   "cell_type": "code",
   "execution_count": 8,
   "id": "c0538815",
   "metadata": {},
   "outputs": [],
   "source": [
    "uncond_diff = DiffusionRunner(create_default_mnist_config(), eval=True)"
   ]
  },
  {
   "cell_type": "code",
   "execution_count": null,
   "id": "5dd28b16",
   "metadata": {},
   "outputs": [
    {
     "data": {
      "application/vnd.jupyter.widget-view+json": {
       "model_id": "e5939d78aea143c1952302349f1e08e6",
       "version_major": 2,
       "version_minor": 0
      },
      "text/plain": [
       "  0%|          | 0/300 [00:00<?, ?it/s]"
      ]
     },
     "metadata": {},
     "output_type": "display_data"
    }
   ],
   "source": [
    "create_dir('../uncond_mnist')\n",
    "\n",
    "TOTAL_IMAGES_COUNT = 60_000\n",
    "BATCH_SIZE = 200\n",
    "NUM_ITERS = TOTAL_IMAGES_COUNT // BATCH_SIZE\n",
    "\n",
    "global_idx = 0\n",
    "for idx in trange(NUM_ITERS):\n",
    "    images: torch.Tensor = uncond_diff.sample_images(batch_size=BATCH_SIZE).cpu()\n",
    "    images = images.permute(0, 2, 3, 1).data.numpy().astype(np.uint8)\n",
    "\n",
    "    for i in range(len(images)):\n",
    "        imsave(os.path.join('../uncond_mnist', f'{global_idx}.png'), images[i])\n",
    "        global_idx += 1"
   ]
  },
  {
   "cell_type": "code",
   "execution_count": null,
   "id": "7ae0649a",
   "metadata": {},
   "outputs": [],
   "source": [
    "fid_value = fid_score.calculate_fid_given_paths(\n",
    "    paths=['real_images_MNIST', 'uncond_mnist'],\n",
    "    batch_size=200,\n",
    "    device=device,\n",
    "    dims=2048\n",
    ")\n",
    "fid_value"
   ]
  },
  {
   "cell_type": "markdown",
   "id": "525ea8ea",
   "metadata": {},
   "source": [
    "> Какой фид получился? Сравните FID для безусловной генерации и для условной. Сгенерируйте для каждого класса по 6к картинок и посчитайте FID между реальными и условно сгенерированными картинками."
   ]
  },
  {
   "cell_type": "markdown",
   "id": "f9fe21ec",
   "metadata": {},
   "source": [
    "Разобьем MNIST по папкам классов:"
   ]
  },
  {
   "cell_type": "code",
   "execution_count": null,
   "id": "4be3ec74",
   "metadata": {},
   "outputs": [],
   "source": [
    "real_dataset = MNIST(root='../data', download=True, train=True, transform=Compose([Resize((32, 32))]))\n",
    "for idx, (image_mnist, label) in enumerate(tqdm(real_dataset, total=len(real_dataset))):\n",
    "    image = np.array(image_mnist)\n",
    "    imsave(\"../real_images_MNIST/{}.png\".format(idx), image)"
   ]
  },
  {
   "cell_type": "markdown",
   "id": "2c74ed74",
   "metadata": {},
   "source": [
    "Сгенерируем картинки условной генерацией:"
   ]
  },
  {
   "cell_type": "code",
   "execution_count": null,
   "id": "349a2cd7",
   "metadata": {},
   "outputs": [],
   "source": [
    "classifier_args = {\n",
    "    \"block\": ResidualBlock,\n",
    "    \"layers\": [2, 2, 2, 2]\n",
    "}\n",
    "noisy_classifier = ConditionalResNet(**classifier_args)\n",
    "noisy_classifier.to(device)\n",
    "\n",
    "noisy_classifier.load_state_dict(torch.load('./ddpm_checkpoints/classifier.pth'))\n",
    "noisy_classifier.eval()\n",
    "\n",
    "cond_diff = DiffusionRunner(create_default_mnist_config(), eval=True)\n",
    "cond_diff.set_classifier(noisy_classifier, T=1.)\n",
    "create_dir('../cond_mnist')"
   ]
  },
  {
   "cell_type": "code",
   "execution_count": null,
   "id": "0a3ca410",
   "metadata": {},
   "outputs": [],
   "source": [
    "def sample_class(class_num: int):\n",
    "    TOTAL_IMAGES_COUNT = 6_000\n",
    "    BATCH_SIZE = 200\n",
    "    NUM_ITERS = TOTAL_IMAGES_COUNT // BATCH_SIZE\n",
    "    dir_name = f'../cond_mnist/{class_num}'\n",
    "    create_dir(dir_name)\n",
    "\n",
    "    global_idx = 0\n",
    "    for idx in trange(NUM_ITERS):\n",
    "        images: torch.Tensor = cond_diff.sample_images(batch_size=BATCH_SIZE).cpu()\n",
    "        images = images.permute(0, 2, 3, 1).data.numpy().astype(np.uint8)\n",
    "\n",
    "        for i in range(len(images)):\n",
    "            imsave(os.path.join('dir_name', f'{global_idx}.png'), images[i])\n",
    "            global_idx += 1"
   ]
  },
  {
   "cell_type": "code",
   "execution_count": null,
   "id": "613a7a99",
   "metadata": {},
   "outputs": [],
   "source": [
    "for i in range(10):\n",
    "    sample_class(i)\n",
    "    fid_value = fid_score.calculate_fid_given_paths(\n",
    "        paths=[f'real_images_MNIST/{i}', 'cond_mnist/{i}'],\n",
    "        batch_size=200,\n",
    "        device=device,\n",
    "        dims=2048\n",
    "    )\n",
    "    print(f\"Class {i} FID = {fid_value}\")"
   ]
  },
  {
   "cell_type": "markdown",
   "id": "146f8ef4",
   "metadata": {},
   "source": [
    "Посчитаем общий FID:"
   ]
  },
  {
   "cell_type": "code",
   "execution_count": null,
   "id": "3e0f7b3f",
   "metadata": {},
   "outputs": [],
   "source": [
    "create_dir('cond_mnist/all')\n",
    "for i in range(10):\n",
    "    files = os.listdir('cond_mnist/{i}')\n",
    "    for f in files:\n",
    "        shutil.move(f, 'cond_mnist/all')"
   ]
  },
  {
   "cell_type": "code",
   "execution_count": null,
   "id": "8e049643",
   "metadata": {},
   "outputs": [],
   "source": [
    "fid_value = fid_score.calculate_fid_given_paths(\n",
    "    paths=['real_images_MNIST', 'cond_mnist/all'],\n",
    "    batch_size=200,\n",
    "    device=device,\n",
    "    dims=2048\n",
    ")\n",
    "fid_value"
   ]
  }
 ],
 "metadata": {
  "kernelspec": {
   "display_name": "Python 3.10.6 64-bit",
   "language": "python",
   "name": "python3"
  },
  "language_info": {
   "codemirror_mode": {
    "name": "ipython",
    "version": 3
   },
   "file_extension": ".py",
   "mimetype": "text/x-python",
   "name": "python",
   "nbconvert_exporter": "python",
   "pygments_lexer": "ipython3",
   "version": "3.10.6"
  },
  "vscode": {
   "interpreter": {
    "hash": "916dbcbb3f70747c44a77c7bcd40155683ae19c65e1c03b4aa3499c5328201f1"
   }
  }
 },
 "nbformat": 4,
 "nbformat_minor": 5
}
